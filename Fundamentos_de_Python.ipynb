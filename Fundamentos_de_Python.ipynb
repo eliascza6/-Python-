{
  "nbformat": 4,
  "nbformat_minor": 0,
  "metadata": {
    "colab": {
      "provenance": [],
      "authorship_tag": "ABX9TyNu6ILw0X8txCgrLOSLkWEO",
      "include_colab_link": true
    },
    "kernelspec": {
      "name": "python3",
      "display_name": "Python 3"
    },
    "language_info": {
      "name": "python"
    }
  },
  "cells": [
    {
      "cell_type": "markdown",
      "metadata": {
        "id": "view-in-github",
        "colab_type": "text"
      },
      "source": [
        "<a href=\"https://colab.research.google.com/github/eliascza6/-Python-/blob/main/Fundamentos_de_Python.ipynb\" target=\"_parent\"><img src=\"https://colab.research.google.com/assets/colab-badge.svg\" alt=\"Open In Colab\"/></a>"
      ]
    },
    {
      "cell_type": "code",
      "execution_count": null,
      "metadata": {
        "id": "xOviogUOrOiS",
        "colab": {
          "base_uri": "https://localhost:8080/"
        },
        "outputId": "2629a2f8-b727-4878-ece8-6664f6b15bd8"
      },
      "outputs": [
        {
          "output_type": "stream",
          "name": "stdout",
          "text": [
            "2\n",
            "4\n"
          ]
        }
      ],
      "source": [
        "x=2\n",
        "print(x)\n",
        "x=x+2\n",
        "print(x)"
      ]
    },
    {
      "cell_type": "code",
      "source": [
        "x = 5\n",
        "if x < 10:\n",
        "  print('Smaller')\n",
        "if x > 20:\n",
        "  print('Bigger')\n",
        "\n",
        "print('Finis')"
      ],
      "metadata": {
        "colab": {
          "base_uri": "https://localhost:8080/"
        },
        "id": "FhoNp6OUJCrh",
        "outputId": "344cb2a0-6072-475a-fc1b-861eb8b375f8"
      },
      "execution_count": null,
      "outputs": [
        {
          "output_type": "stream",
          "name": "stdout",
          "text": [
            "Smaller\n",
            "Finis\n"
          ]
        }
      ]
    },
    {
      "cell_type": "code",
      "source": [
        "n = 5\n",
        "while n > 0 :\n",
        "  print(n)\n",
        "  n = n - 1\n",
        "print('BLastoff!')"
      ],
      "metadata": {
        "colab": {
          "base_uri": "https://localhost:8080/"
        },
        "id": "kfMeLebuJpuP",
        "outputId": "562c6e98-61e6-4846-9d99-e793aeccf7ff"
      },
      "execution_count": null,
      "outputs": [
        {
          "output_type": "stream",
          "name": "stdout",
          "text": [
            "5\n",
            "4\n",
            "3\n",
            "2\n",
            "1\n",
            "BLastoff!\n"
          ]
        }
      ]
    },
    {
      "cell_type": "code",
      "source": [
        "hours = 35.0\n",
        "rate = 12.50\n",
        "pay = hours * rate\n",
        "print(pay)"
      ],
      "metadata": {
        "colab": {
          "base_uri": "https://localhost:8080/"
        },
        "id": "A2jXFpaDod1W",
        "outputId": "ca1e546f-00b9-4b18-b1d7-e9c5f4e20658"
      },
      "execution_count": null,
      "outputs": [
        {
          "output_type": "stream",
          "name": "stdout",
          "text": [
            "437.5\n"
          ]
        }
      ]
    },
    {
      "cell_type": "code",
      "source": [
        "xx =2\n",
        "xx = xx + 2\n",
        "print(xx)"
      ],
      "metadata": {
        "colab": {
          "base_uri": "https://localhost:8080/"
        },
        "id": "juHkKkdV3wOZ",
        "outputId": "0edf3bdb-8c11-43c0-f7db-11e18bea00be"
      },
      "execution_count": null,
      "outputs": [
        {
          "output_type": "stream",
          "name": "stdout",
          "text": [
            "4\n"
          ]
        }
      ]
    },
    {
      "cell_type": "code",
      "source": [
        "yy = 440 * 12\n",
        "print (yy)\n",
        "\n",
        "zz = yy / 1000\n",
        "print(zz)"
      ],
      "metadata": {
        "colab": {
          "base_uri": "https://localhost:8080/"
        },
        "id": "9eersGxi4BO3",
        "outputId": "3e919656-3e38-4354-d643-8f1aa3c494ea"
      },
      "execution_count": null,
      "outputs": [
        {
          "output_type": "stream",
          "name": "stdout",
          "text": [
            "5280\n",
            "5.28\n"
          ]
        }
      ]
    },
    {
      "cell_type": "code",
      "source": [
        "jj = 23\n",
        "kk = jj % 5\n",
        "print (kk)\n",
        "\n",
        "print (4 ** 3)"
      ],
      "metadata": {
        "colab": {
          "base_uri": "https://localhost:8080/"
        },
        "id": "mpBPJ5g14YLM",
        "outputId": "b5ff75cf-d7b7-4632-cbd5-843395dd941c"
      },
      "execution_count": null,
      "outputs": [
        {
          "output_type": "stream",
          "name": "stdout",
          "text": [
            "3\n",
            "64\n"
          ]
        }
      ]
    },
    {
      "cell_type": "code",
      "source": [
        "x = 1 + 2 ** 3 / 4 * 5\n",
        "print(x)"
      ],
      "metadata": {
        "colab": {
          "base_uri": "https://localhost:8080/"
        },
        "id": "RXb_m_7L4JOl",
        "outputId": "2a4ac58e-8f64-4126-b9a7-bf22a14154ca"
      },
      "execution_count": null,
      "outputs": [
        {
          "output_type": "stream",
          "name": "stdout",
          "text": [
            "11.0\n"
          ]
        }
      ]
    },
    {
      "cell_type": "code",
      "source": [
        "ddd = 1 + 4\n",
        "print(ddd)\n",
        "\n",
        "eee = 'hello ' + 'there'\n",
        "print(eee)"
      ],
      "metadata": {
        "colab": {
          "base_uri": "https://localhost:8080/"
        },
        "id": "zH11blTm8PUC",
        "outputId": "f1e572a0-ea2b-4ea3-e547-cee9bdf70da3"
      },
      "execution_count": null,
      "outputs": [
        {
          "output_type": "stream",
          "name": "stdout",
          "text": [
            "5\n",
            "hello there\n"
          ]
        }
      ]
    },
    {
      "cell_type": "code",
      "source": [
        "print(float(99) + 100)"
      ],
      "metadata": {
        "colab": {
          "base_uri": "https://localhost:8080/"
        },
        "id": "3jASTzLLABQ8",
        "outputId": "0e176c13-56a7-42cf-ea24-5d6b4d9c017a"
      },
      "execution_count": null,
      "outputs": [
        {
          "output_type": "stream",
          "name": "stdout",
          "text": [
            "199.0\n"
          ]
        }
      ]
    },
    {
      "cell_type": "code",
      "source": [
        "i = 42\n",
        "type(i)\n",
        "\n",
        "f = float(i)\n",
        "print(f)\n",
        "\n",
        "type(f)"
      ],
      "metadata": {
        "colab": {
          "base_uri": "https://localhost:8080/"
        },
        "id": "u8QSxDcgA99M",
        "outputId": "95f58ce6-6a7a-4d25-83cc-1f2a7c20ca21"
      },
      "execution_count": null,
      "outputs": [
        {
          "output_type": "stream",
          "name": "stdout",
          "text": [
            "42.0\n"
          ]
        },
        {
          "output_type": "execute_result",
          "data": {
            "text/plain": [
              "float"
            ]
          },
          "metadata": {},
          "execution_count": 13
        }
      ]
    },
    {
      "cell_type": "code",
      "source": [
        "sval = '123'\n",
        "type(sval)\n",
        "\n",
        "ival = int(sval)\n",
        "type(ival)\n",
        "\n",
        "print(ival + 1)"
      ],
      "metadata": {
        "colab": {
          "base_uri": "https://localhost:8080/"
        },
        "id": "9EbYp-JcCw29",
        "outputId": "0defb7f6-66a5-455c-960c-d73e2f9f144b"
      },
      "execution_count": null,
      "outputs": [
        {
          "output_type": "stream",
          "name": "stdout",
          "text": [
            "124\n"
          ]
        }
      ]
    },
    {
      "cell_type": "code",
      "source": [
        "nam = input('Who are you? ')\n",
        "print('Welcome', nam)"
      ],
      "metadata": {
        "colab": {
          "base_uri": "https://localhost:8080/"
        },
        "id": "6oFMpjuFFDZ-",
        "outputId": "b92673cc-668d-48e7-b486-eccbc5bba2ac"
      },
      "execution_count": null,
      "outputs": [
        {
          "output_type": "stream",
          "name": "stdout",
          "text": [
            "Who are you? Elias\n",
            "Welcome Elias\n"
          ]
        }
      ]
    },
    {
      "cell_type": "code",
      "source": [
        "inp = input('Europe floor?')\n",
        "usf = int(inp) + 1\n",
        "print('US floor', usf)"
      ],
      "metadata": {
        "colab": {
          "base_uri": "https://localhost:8080/"
        },
        "id": "FATjZgnIGlUF",
        "outputId": "4ecdf4ba-b820-427f-993d-fba119af8779"
      },
      "execution_count": null,
      "outputs": [
        {
          "output_type": "stream",
          "name": "stdout",
          "text": [
            "Europe floor?5\n",
            "US floor 6\n"
          ]
        }
      ]
    },
    {
      "cell_type": "markdown",
      "source": [
        "CAPÍTULO 1- 29/Oct/2025\n",
        "\n",
        "Código: secuencia de instrucciones\n",
        "\n",
        " Necesitamos ser muy precisos. Hacerlo bien.\n",
        "\n",
        "Las computadoras leen texto muy bien.\n",
        "\n",
        "El programador (Python (muleta)) vive trabajando y manipulando la Main Memory desde la Second Memory. El trabajo del programador es responder al CPU que siempre hace la pregunta (qué sigue?\n",
        "\n",
        "__________________________________________________________________\n",
        "\n",
        ">>> : ¿qué quieres hacer? what’s next?\n",
        "\n",
        "Elements of Python:\n",
        "\n",
        "Vocabulary / Words- Variables and Reserved words (chapter 2)\n",
        "Sentence structure - valid syntax patterns (Chapters 3-5)\n",
        "Story Structure- constructing a program for a purpose\n",
        "\n",
        "\n",
        "\n",
        "Reserved words: PALABRAS CON LAS QUE PYTHON ESTÁ PREPROGRAMADA- DE USO ESPECIAL- ES SU VOCABUARIO (DE PYTHON)\n",
        "\n",
        "False\n",
        "class\n",
        "return\n",
        "is\n",
        "finally\n",
        "None\n",
        "if\n",
        "for\n",
        "lambda\n",
        "continue\n",
        "True\n",
        "def\n",
        "from\n",
        "while\n",
        "nonlocal\n",
        "and\n",
        "del\n",
        "global\n",
        "not\n",
        "with\n",
        "as\n",
        "elif\n",
        "try\n",
        "or\n",
        "yield\n",
        "assert\n",
        "else\n",
        "import\n",
        "pass\n",
        "\n",
        "\n",
        "break\n",
        "except\n",
        "in\n",
        "raise\n",
        "\n",
        "\n",
        "\n",
        "\n",
        "\n",
        "Un programa en Python es una serie de instrucciones (sentences or lines). Tienen una orden.\n",
        "\n",
        "\n",
        "Coloca tus Instrucciones de Python en un archivo (.py) y luego indicale a Python que lea el archivo, y luego ejecute el “script” tal como está escrito en ese archivo.\n",
        "\n",
        "\n",
        "El guíon (sricpt) es lo que se debe hacer (el camino), despues de que hayamos pasado una o dos línea de código, lo escribimos en archivos. y lo ejrcutamos fianlemtne por separado.\n",
        "LAS SANGRÍAS TAMBIÉN JUEGAN UN PAPEL IMPORTANTE (EN LOS PASOS CONDICIONALES) “IF”\n",
        "\n",
        "Loops (repetated steps) have iteration variables that change each time through a loop.\n",
        "\n",
        "CAPÍTULO 2- 30/Oct/2025\n",
        "\n",
        "Constants: FIXED VALUES- Their value does not change.:son número, letras, strings, sirve para cálculos\n",
        "numeric constants are as you expect\n",
        "string constants use single quotes (‘) or double quotes\n",
        "\n",
        "\n",
        "Las palabras reservadas no se pueden usar como nombres de variable / identifiers.\n",
        "\n",
        "Las variables: is a named place in the memory where a programmer can store data and later retrieve the data using the variable “name”.\n",
        "\n",
        "Programmer get to choose the names of the variables\n",
        "You can change the contents of a a variable in a later statement\n",
        "(X como una flecha en una declaración de asignación):\n",
        "x = 12.2 (esta declaración se elimina si sustituyes la variable x con otro valor)\n",
        "y = 14\n",
        "x =100\n",
        "\n",
        "Existen algunos nombres, algunas reglas para crear nombres de variables. Puedes comenzar con una letra o un guión bajo.\n",
        "Puedes usar letras, número y guiones bajos después del primer carácter.\n",
        "\n",
        "Menemonic Variable Names:\n",
        "shorts or descriptives\n",
        "\n",
        "Assignment Statements:\n",
        "we assign a value to a variable using the assignment statement (=)\n",
        "an assignment statement consists of an expression on the right-hand side and a variable (x en este caso) to store the result\n",
        "   x = 3.9 * x * ( 1 - x )  — siempre de derecha a izquierda\n",
        "x = a variable, is a memory location (0.6)\n",
        "\n",
        "\n",
        "Numeric Expressions\n",
        "\n",
        "we use “computer-speak” to express the classic math operations. Según el teclado común.\n",
        "\n",
        "Asterisk is multiplication\n",
        "Exponentiation (raise to a power) looks different than in math\n",
        "\n",
        "\n",
        "OPERATOR\n",
        "OPERATION\n",
        "+\n",
        "Addition\n",
        "-\n",
        "Subtraction\n",
        "*\n",
        "Multiplication\n",
        "/\n",
        "Division\n",
        "**\n",
        "Power\n",
        "%\n",
        "Remainder\n",
        "\n",
        "\n",
        "\n",
        "Order of Evaluation\n",
        "\n",
        "When we string operators together - Python must know which one to do first\n",
        "This is called “operator precedence”\n",
        "Which operator “takes precedence” over the others?\n",
        "\n",
        "x = 1 + 2 * 3 - 4 / 5 ** 6\n",
        "\n",
        "Operator Precedence RULES:\n",
        "Highest precedence rule to lowest precedence rule:\n",
        "\n",
        "Parentheses are always respected\n",
        "Exponentiation (raise to a power)\n",
        "Multiplication, Division, and Remainder (izquierda a derecha)\n",
        "Addition and Subtraction\n",
        "Left to right (izquierda a derecha)\n",
        "\n",
        "PEMDRASLTR\n",
        "\n",
        "\n",
        "\n",
        "\n",
        "What does “Type” Mean? /Tipos de datos\n",
        "\n",
        "In Python variables, literals, and constants have a “type”\n",
        "Python knows the difference between an integer number and a string\n",
        "For example “+” means “addition” if something is a number and “concatenate” if something is a string.\n",
        "\n",
        "TYPE MATTERS:\n",
        "Python knows what “type” everything is\n",
        "Some operations are prohibited\n",
        "You cannot “add 1” to a string\n",
        "We can ask Python what type something is by using the type() function\n",
        "\n",
        "El seguimiento de pila te dice que hay un error.\n",
        "\n",
        "T- Y - P - E (function)\n",
        ">>> type(eee)\n",
        "para preguntar a Python qué tipo de variable o constante es.\n",
        "\n",
        "Several Types of Numbers\n",
        "\n",
        "Numbers have two main types:\n",
        "Integers are whole numbers\n",
        "Floating Point Numbers have decimal parts\n",
        "there are other number of types- they are variations on float and integer\n",
        "\n",
        "Type Conversions (otras funciones integradas)\n",
        "when you put an integer and floating point in an expression,  the integer is implicitly converted to a float\n",
        "You can control this with the built-in functions int() and float()\n",
        "\n",
        "User Input\n",
        "we can instruct Python to pause and read data from the user using the input() function\n",
        "The input() function returns a string\n",
        "\n",
        "CONVERTING USER INPUT\n",
        "\n",
        "If we want to read a number from the user, we must convert it from a string to a number using a type conversion function\n",
        "later we will deal with bad input data\n",
        "\n",
        "\n",
        "\n",
        "Comments in Python\n",
        "Es una forma de incluir información en un archivo de programa algún texto que Python o C deben ignorar.\n",
        "\n",
        "Anything after a # is ignored by Py\n",
        "\n",
        "Why comment?\n",
        "Describe what is going to happen in a sequence of code\n",
        "Document who wrote the code or other ancillary information\n",
        "Turn off a line of code - perhaps temporarily\n"
      ],
      "metadata": {
        "id": "1U43Sbo9T1Qj"
      }
    }
  ]
}