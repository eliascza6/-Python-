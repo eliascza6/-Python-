{
  "nbformat": 4,
  "nbformat_minor": 0,
  "metadata": {
    "colab": {
      "provenance": [],
      "authorship_tag": "ABX9TyOaBSg3FN2Pe9QrPsCWGHgr",
      "include_colab_link": true
    },
    "kernelspec": {
      "name": "python3",
      "display_name": "Python 3"
    },
    "language_info": {
      "name": "python"
    }
  },
  "cells": [
    {
      "cell_type": "markdown",
      "metadata": {
        "id": "view-in-github",
        "colab_type": "text"
      },
      "source": [
        "<a href=\"https://colab.research.google.com/github/eliascza6/-Python-/blob/main/Fundamentos_de_Python_M%C3%B3dulo_1.ipynb\" target=\"_parent\"><img src=\"https://colab.research.google.com/assets/colab-badge.svg\" alt=\"Open In Colab\"/></a>"
      ]
    },
    {
      "cell_type": "code",
      "execution_count": null,
      "metadata": {
        "id": "xOviogUOrOiS",
        "colab": {
          "base_uri": "https://localhost:8080/"
        },
        "outputId": "2629a2f8-b727-4878-ece8-6664f6b15bd8"
      },
      "outputs": [
        {
          "output_type": "stream",
          "name": "stdout",
          "text": [
            "2\n",
            "4\n"
          ]
        }
      ],
      "source": [
        "x=2\n",
        "print(x)\n",
        "x=x+2\n",
        "print(x)"
      ]
    },
    {
      "cell_type": "code",
      "source": [
        "x = 5\n",
        "if x < 10:\n",
        "  print('Smaller')\n",
        "if x > 20:\n",
        "  print('Bigger')\n",
        "\n",
        "print('Finis')"
      ],
      "metadata": {
        "colab": {
          "base_uri": "https://localhost:8080/"
        },
        "id": "FhoNp6OUJCrh",
        "outputId": "344cb2a0-6072-475a-fc1b-861eb8b375f8"
      },
      "execution_count": null,
      "outputs": [
        {
          "output_type": "stream",
          "name": "stdout",
          "text": [
            "Smaller\n",
            "Finis\n"
          ]
        }
      ]
    },
    {
      "cell_type": "code",
      "source": [
        "n = 5\n",
        "while n > 0 :\n",
        "  print(n)\n",
        "  n = n - 1\n",
        "print('BLastoff!')"
      ],
      "metadata": {
        "colab": {
          "base_uri": "https://localhost:8080/"
        },
        "id": "kfMeLebuJpuP",
        "outputId": "562c6e98-61e6-4846-9d99-e793aeccf7ff"
      },
      "execution_count": null,
      "outputs": [
        {
          "output_type": "stream",
          "name": "stdout",
          "text": [
            "5\n",
            "4\n",
            "3\n",
            "2\n",
            "1\n",
            "BLastoff!\n"
          ]
        }
      ]
    },
    {
      "cell_type": "markdown",
      "source": [
        "Loops (repetated steps) have iteration variables that change each time through a loop."
      ],
      "metadata": {
        "id": "9B0v4ghTKwjx"
      }
    }
  ]
}